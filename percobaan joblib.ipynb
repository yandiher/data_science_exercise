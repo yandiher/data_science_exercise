{
 "cells": [
  {
   "cell_type": "code",
   "execution_count": 1,
   "id": "527dab2e",
   "metadata": {},
   "outputs": [],
   "source": [
    "import joblib"
   ]
  },
  {
   "cell_type": "code",
   "execution_count": 2,
   "id": "a23a4644",
   "metadata": {},
   "outputs": [],
   "source": [
    "model = joblib.load('mlbrain.joblib')\n",
    "from sklearn.datasets import load_iris\n",
    "# iris = load_iris()"
   ]
  },
  {
   "cell_type": "code",
   "execution_count": 4,
   "id": "1b025ad4",
   "metadata": {},
   "outputs": [
    {
     "name": "stdout",
     "output_type": "stream",
     "text": [
      "[1 2]\n"
     ]
    }
   ],
   "source": [
    "testing = [[2,5,5,2], [2,4,4,5]]\n",
    "predik = model.predict(testing)\n",
    "# predik_spesies = [iris.target_names [p] for p in predik]\n",
    "# print (\"prediksinya adalah \", predik_spesies)\n",
    "print (predik)"
   ]
  },
  {
   "cell_type": "code",
   "execution_count": null,
   "id": "8e0d0bcb",
   "metadata": {},
   "outputs": [],
   "source": []
  }
 ],
 "metadata": {
  "kernelspec": {
   "display_name": "Python 3 (ipykernel)",
   "language": "python",
   "name": "python3"
  },
  "language_info": {
   "codemirror_mode": {
    "name": "ipython",
    "version": 3
   },
   "file_extension": ".py",
   "mimetype": "text/x-python",
   "name": "python",
   "nbconvert_exporter": "python",
   "pygments_lexer": "ipython3",
   "version": "3.10.4"
  }
 },
 "nbformat": 4,
 "nbformat_minor": 5
}
