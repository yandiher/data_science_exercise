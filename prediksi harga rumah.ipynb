{
 "cells": [
  {
   "cell_type": "markdown",
   "id": "038b243d",
   "metadata": {},
   "source": [
    "# prediksi harga rumah"
   ]
  },
  {
   "cell_type": "code",
   "execution_count": 1,
   "id": "8f46eec8",
   "metadata": {},
   "outputs": [],
   "source": [
    "# import library\n",
    "import numpy as np\n",
    "import pandas as pd"
   ]
  },
  {
   "cell_type": "code",
   "execution_count": 2,
   "id": "88cb3bd9",
   "metadata": {},
   "outputs": [],
   "source": [
    "# import datasets dari scikit-learn\n",
    "from sklearn.datasets import fetch_california_housing\n",
    "fetch = fetch_california_housing()\n",
    "\n",
    "dataframe = pd.DataFrame(data=fetch.data, columns=fetch.feature_names)\n",
    "dataframe['target'] = fetch.target"
   ]
  },
  {
   "cell_type": "code",
   "execution_count": 3,
   "id": "0581f6f0",
   "metadata": {},
   "outputs": [],
   "source": [
    "dataframe.head()"
   ]
  },
  {
   "cell_type": "code",
   "execution_count": 4,
   "id": "c9719dd1",
   "metadata": {},
   "outputs": [],
   "source": [
    "X = dataframe.drop('target', axis=1)\n",
    "y = dataframe['target']"
   ]
  },
  {
   "cell_type": "code",
   "execution_count": 5,
   "id": "7bb8c4cd",
   "metadata": {},
   "outputs": [],
   "source": [
    "# split data untuk training dan test\n",
    "from sklearn.model_selection import train_test_split\n",
    "\n",
    "# bikin random seed 42\n",
    "np.random.seed(42)\n",
    "X_train, X_test, y_train, y_test = train_test_split(X, y, train_size=0.8)"
   ]
  },
  {
   "cell_type": "code",
   "execution_count": 6,
   "id": "27a85377",
   "metadata": {},
   "outputs": [],
   "source": [
    "# import model untuk machine learning\n",
    "from sklearn.ensemble import RandomForestRegressor\n",
    "model = RandomForestRegressor()"
   ]
  },
  {
   "cell_type": "code",
   "execution_count": null,
   "id": "6f144c82",
   "metadata": {},
   "outputs": [],
   "source": [
    "# fit si model untuk learning dari training data\n",
    "model.fit(X_train, y_train)\n",
    "# buat perbandingan untuk si y_test\n",
    "y_pred = model.predict(X_test)"
   ]
  },
  {
   "cell_type": "code",
   "execution_count": null,
   "id": "af3e9134",
   "metadata": {},
   "outputs": [],
   "source": [
    "y_pred = pd.Series(y_pred)\n",
    "y_test = pd.Series(y_test)"
   ]
  },
  {
   "cell_type": "markdown",
   "id": "c59707a6",
   "metadata": {},
   "source": [
    "# mean absolute error (MAE) & mean squared error (MSE)"
   ]
  },
  {
   "cell_type": "code",
   "execution_count": null,
   "id": "56d22d3c",
   "metadata": {},
   "outputs": [],
   "source": [
    "from sklearn.metrics import mean_absolute_error, mean_squared_error, accuracy_score, r2_score\n",
    "mae = mean_absolute_error(y_test, y_pred)\n",
    "mse = mean_squared_error(y_test, y_pred)\n",
    "r2 = model.score(X_test, y_test)\n",
    "accuracy = r2_score(y_test, y_pred)\n",
    "\n",
    "# print\n",
    "print (f'mean absolute error: {mae}')\n",
    "print (f'mean squared error: {mae}')\n",
    "print (f'root square: {r2*100:.2f}%')\n",
    "print (f'root square: {accuracy*100:.2f}%')"
   ]
  },
  {
   "cell_type": "markdown",
   "id": "39396a20",
   "metadata": {},
   "source": [
    "# cross validation evaluation"
   ]
  },
  {
   "cell_type": "code",
   "execution_count": null,
   "id": "4caa20cb",
   "metadata": {},
   "outputs": [],
   "source": [
    "from sklearn.model_selection import cross_val_score\n",
    "\n",
    "cross = np.mean(cross_val_score(model, X, y, cv=5))\n",
    "\n",
    "print (f'cross validation score: {cross*100:.2f}%')"
   ]
  },
  {
   "cell_type": "code",
   "execution_count": null,
   "id": "103f3faa",
   "metadata": {},
   "outputs": [],
   "source": []
  }
 ],
 "metadata": {
  "kernelspec": {
   "display_name": "Python 3 (ipykernel)",
   "language": "python",
   "name": "python3"
  },
  "language_info": {
   "codemirror_mode": {
    "name": "ipython",
    "version": 3
   },
   "file_extension": ".py",
   "mimetype": "text/x-python",
   "name": "python",
   "nbconvert_exporter": "python",
   "pygments_lexer": "ipython3",
   "version": "3.11.2"
  }
 },
 "nbformat": 4,
 "nbformat_minor": 5
}
